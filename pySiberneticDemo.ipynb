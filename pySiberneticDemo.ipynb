{
 "cells": [
  {
   "cell_type": "code",
   "execution_count": null,
   "metadata": {},
   "outputs": [],
   "source": [
    "%pylab inline"
   ]
  },
  {
   "cell_type": "markdown",
   "metadata": {},
   "source": [
    "# Basic Usage\n",
    "\n",
    "To start the simulator we import the pySibernetic module, create an owConfigProperty and an \n",
    "owPhysicsFluidSimulation objects. "
   ]
  },
  {
   "cell_type": "code",
   "execution_count": 1,
   "metadata": {},
   "outputs": [],
   "source": [
    "import pySibernetic\n",
    "\n",
    "config=pySibernetic.owConfigProperty('worm_crawling')\n",
    "config.TimeLim = 10.\n",
    "config.TimeStep = 5e-6\n",
    "config.OpenCLSourceFileName='src/sphFluid_crawling.cl'\n",
    "config.integrationMethod=pySibernetic.EULER\n",
    "\n",
    "sim=pySibernetic.owPhysicsFluidSimulator(config) # see output in terminal"
   ]
  },
  {
   "cell_type": "markdown",
   "metadata": {},
   "source": [
    "Creating a muscle simulation"
   ]
  },
  {
   "cell_type": "code",
   "execution_count": null,
   "metadata": {},
   "outputs": [],
   "source": [
    "m=pySibernetic.MuscleSimulation()\n",
    "m.increment=1;"
   ]
  },
  {
   "cell_type": "markdown",
   "metadata": {},
   "source": [
    "Defining the simulation iteration"
   ]
  },
  {
   "cell_type": "code",
   "execution_count": null,
   "metadata": {},
   "outputs": [],
   "source": [
    "def my_sim_iteration():\n",
    "    # Running the physics simulation, No Logging to file\n",
    "    sim.simulationStep(False)\n",
    "    #Running muscle simulation\n",
    "    m_t=m.run() \n",
    "    # updating the muscle activation signal\n",
    "    # We always change the array ELEMENTS and not the array itself. \n",
    "    # See comments in source code of pySibernetic.owPhysicsFluidSimulator \n",
    "    # (run: 'pySibernetic.owPhysicsFluidSimulator??' to view the source code)\n",
    "    sim.MuscleAtcivationSignal[:96]=m_t \n",
    "    # pushing the C++ muscle activation signal to the correspinding OpenCL buffer\n",
    "    sim.pushMuscleActivity2openCLsolver() \n",
    "    "
   ]
  },
  {
   "cell_type": "markdown",
   "metadata": {},
   "source": [
    "For example let's say we are interested only in the position of the worm body. Let's create a function to get the positions of all the worm's particles  "
   ]
  },
  {
   "cell_type": "code",
   "execution_count": null,
   "metadata": {},
   "outputs": [],
   "source": [
    "def get_worm_position():\n",
    "    # reshape the numpy array to N_particles X 4. no copy\n",
    "    r=sim.Position.reshape((-1,4)) \n",
    "    # return position of particles that belong to the worm (makes copy of data)\n",
    "    return r[(r[:,3]>2.) * (r[:,3]<2.25)  ,:3] "
   ]
  },
  {
   "cell_type": "markdown",
   "metadata": {},
   "source": [
    "Now let's simulate T seconds and keep the position of the worm every t_save seconds"
   ]
  },
  {
   "cell_type": "code",
   "execution_count": null,
   "metadata": {},
   "outputs": [],
   "source": [
    "T = 0.1\n",
    "t_save = 0.004\n",
    "n_iter = int(t_save / config.TimeStep)\n",
    "\n",
    "worm_position = [get_worm_position()]\n",
    "\n",
    "while sim.Iteration * config.TimeStep < T:\n",
    "    # advance simulation by t_save\n",
    "    for i in range(n_iter):\n",
    "        my_sim_iteration()\n",
    "    # get the worm's position\n",
    "    worm_position.append(get_worm_position())\n",
    "    # You can add other stuff here (save to files, visualzation, etc.)\n",
    "    "
   ]
  },
  {
   "cell_type": "markdown",
   "metadata": {},
   "source": [
    "Finally let's visualize the results using [ipyvolume](https://github.com/maartenbreddels/ipyvolume)"
   ]
  },
  {
   "cell_type": "code",
   "execution_count": null,
   "metadata": {},
   "outputs": [],
   "source": [
    "import ipyvolume as ipv\n",
    "\n",
    "f=ipv.figure()\n",
    "ipv.xlim(0,500)\n",
    "ipv.ylim(0,500)\n",
    "ipv.zlim(0,500)\n",
    "\n",
    "a=array(worm_position) \n",
    "s=ipv.scatter(a[:,:,2],a[:,:,0],a[::,:,1],size=0.1,marker='sphere')\n",
    "ipv.animation_control(s,interval=100)\n",
    "ipv.show()\n"
   ]
  },
  {
   "cell_type": "markdown",
   "metadata": {},
   "source": [
    "# Exposed properties and Methods\n",
    "\n",
    "Exposed in pySibernetic module:"
   ]
  },
  {
   "cell_type": "code",
   "execution_count": 2,
   "metadata": {},
   "outputs": [
    {
     "data": {
      "text/plain": [
       "['MuscleSimulation',\n",
       " 'owConfigProperty',\n",
       " 'owPhysicsFluidSimulator',\n",
       " 'ALL',\n",
       " 'INTEGRATOR',\n",
       " 'EULER',\n",
       " 'GPU',\n",
       " 'LEAPFROG',\n",
       " 'DEVICE',\n",
       " 'getNDArrayFromBuffer',\n",
       " 'CPU',\n",
       " 'py_functions']"
      ]
     },
     "execution_count": 2,
     "metadata": {},
     "output_type": "execute_result"
    }
   ],
   "source": [
    "[attr for attr in pySibernetic.__dir__() if not attr.startswith('_')]"
   ]
  },
  {
   "cell_type": "markdown",
   "metadata": {},
   "source": [
    "Here are the properties exposed to Python in the owConfigProperty class"
   ]
  },
  {
   "cell_type": "code",
   "execution_count": 3,
   "metadata": {},
   "outputs": [
    {
     "data": {
      "text/plain": [
       "['numOfMembranes',\n",
       " 'xmin',\n",
       " 'NumberOfIteration',\n",
       " 'SourceFileName',\n",
       " 'OpenCLSourceFileName',\n",
       " 'ParticleCount',\n",
       " 'xmax',\n",
       " 'zmin',\n",
       " 'LoadPath',\n",
       " 'zmax',\n",
       " 'numOfLiquidP',\n",
       " 'gridCellsZ',\n",
       " 'ParticleCount_RoundUp',\n",
       " 'ConfigPath',\n",
       " 'SnapshotFileName',\n",
       " 'ConfigFilePath',\n",
       " 'gridCellCount',\n",
       " 'DeviceName',\n",
       " 'numOfElasticP',\n",
       " 'TimeStep',\n",
       " 'DeviceType',\n",
       " 'gridCellsX',\n",
       " 'ConfigFileName',\n",
       " 'TimeLim',\n",
       " 'ymin',\n",
       " 'WormConfig',\n",
       " 'LogStep',\n",
       " 'gridCellsY',\n",
       " 'numOfBoundaryP',\n",
       " 'integrationMethod',\n",
       " 'initGridCells',\n",
       " 'Delta',\n",
       " 'ymax',\n",
       " 'prefDeviceType',\n",
       " 'MUSCLE_COUNT']"
      ]
     },
     "execution_count": 3,
     "metadata": {},
     "output_type": "execute_result"
    }
   ],
   "source": [
    "[attr for attr in config.__dir__() if not attr.startswith('_')]"
   ]
  },
  {
   "cell_type": "markdown",
   "metadata": {},
   "source": [
    "Here are the properties exposed to Python in the owPhysicsFluidSimulation class"
   ]
  },
  {
   "cell_type": "code",
   "execution_count": 4,
   "metadata": {},
   "outputs": [
    {
     "data": {
      "text/plain": [
       "['ElasticConnectionsData',\n",
       " 'ParticleIndex',\n",
       " 'Position_cpp',\n",
       " 'MuscleAtcivationSignal_cpp',\n",
       " 'Velocity',\n",
       " 'Density',\n",
       " 'reset',\n",
       " 'MuscleAtcivationSignal',\n",
       " 'ElasticConnectionsData_cpp',\n",
       " 'Density_cpp',\n",
       " 'membraneData_cpp_size',\n",
       " 'MembraneData',\n",
       " 'Config',\n",
       " 'Position',\n",
       " 'velocity_cpp',\n",
       " 'MembraneData_cpp',\n",
       " 'simulationStep',\n",
       " 'velocity_cpp_size',\n",
       " 'ParticleIndex_cpp',\n",
       " 'elasticConnectionsData_cpp_size',\n",
       " 'Iteration',\n",
       " 'makeSnapshot',\n",
       " 'position_cpp_size',\n",
       " 'muscle_activation_signal_cpp_size',\n",
       " 'pushMuscleActivity2openCLsolver',\n",
       " 'particleIndex_cpp_size',\n",
       " 'density_cpp_size']"
      ]
     },
     "execution_count": 4,
     "metadata": {},
     "output_type": "execute_result"
    }
   ],
   "source": [
    "[attr for attr in sim.__dir__() if not attr.startswith('_')]"
   ]
  },
  {
   "cell_type": "code",
   "execution_count": 5,
   "metadata": {},
   "outputs": [],
   "source": [
    "pySibernetic.owPhysicsFluidSimulator??"
   ]
  },
  {
   "cell_type": "code",
   "execution_count": null,
   "metadata": {},
   "outputs": [],
   "source": []
  }
 ],
 "metadata": {
  "kernelspec": {
   "display_name": "Python 3",
   "language": "python",
   "name": "python3"
  },
  "language_info": {
   "codemirror_mode": {
    "name": "ipython",
    "version": 3
   },
   "file_extension": ".py",
   "mimetype": "text/x-python",
   "name": "python",
   "nbconvert_exporter": "python",
   "pygments_lexer": "ipython3",
   "version": "3.5.3"
  }
 },
 "nbformat": 4,
 "nbformat_minor": 2
}
